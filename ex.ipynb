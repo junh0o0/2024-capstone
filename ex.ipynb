{
 "cells": [
  {
   "cell_type": "code",
   "execution_count": 1,
   "metadata": {},
   "outputs": [],
   "source": [
    "import sys\n",
    "sys.path.append('C:\\\\Users\\\\dlwns\\\\revuew\\\\workflow')"
   ]
  },
  {
   "cell_type": "code",
   "execution_count": 3,
   "metadata": {},
   "outputs": [
    {
     "name": "stdout",
     "output_type": "stream",
     "text": [
      "^C\n"
     ]
    },
    {
     "name": "stdout",
     "output_type": "stream",
     "text": [
      "2024-11-15 20:09:29,565 INFO Started executing jobs locally\n",
      "2024-11-15 20:09:30,287 INFO Starting job - Crawling_for_naver.get_url (b4e86410-4624-4394-a383-b41ccb04b99d)\n",
      "2024-11-15 20:09:36,019 INFO Crawling_for_naver.get_url failed with exception:\n",
      "Traceback (most recent call last):\n",
      "  File \"c:\\Users\\dlwns\\anaconda3\\Lib\\site-packages\\jobflow\\managers\\local.py\", line 114, in _run_job\n",
      "    response = job.run(store=store)\n",
      "               ^^^^^^^^^^^^^^^^^^^^\n",
      "  File \"c:\\Users\\dlwns\\anaconda3\\Lib\\site-packages\\jobflow\\core\\job.py\", line 600, in run\n",
      "    response = function(*self.function_args, **self.function_kwargs)\n",
      "               ^^^^^^^^^^^^^^^^^^^^^^^^^^^^^^^^^^^^^^^^^^^^^^^^^^^^^\n",
      "  File \"c:\\Users\\dlwns\\review\\workflow\\crawling.py\", line 109, in get_url\n",
      "    product = shopping.find_element(By.XPATH, f\"/html/body/div/div[4]/div[2]/div[2]/div/div/ul/li[{index}]/div/a\")\n",
      "              ^^^^^^^^^^^^^^^^^^^^^^^^^^^^^^^^^^^^^^^^^^^^^^^^^^^^^^^^^^^^^^^^^^^^^^^^^^^^^^^^^^^^^^^^^^^^^^^^^^^^\n",
      "  File \"c:\\Users\\dlwns\\anaconda3\\Lib\\site-packages\\selenium\\webdriver\\remote\\webdriver.py\", line 766, in find_element\n",
      "    return self.execute(Command.FIND_ELEMENT, {\"using\": by, \"value\": value})[\"value\"]\n",
      "           ^^^^^^^^^^^^^^^^^^^^^^^^^^^^^^^^^^^^^^^^^^^^^^^^^^^^^^^^^^^^^^^^^\n",
      "  File \"c:\\Users\\dlwns\\anaconda3\\Lib\\site-packages\\selenium\\webdriver\\remote\\webdriver.py\", line 380, in execute\n",
      "    self.error_handler.check_response(response)\n",
      "  File \"c:\\Users\\dlwns\\anaconda3\\Lib\\site-packages\\selenium\\webdriver\\remote\\errorhandler.py\", line 229, in check_response\n",
      "    raise exception_class(message, screen, stacktrace)\n",
      "selenium.common.exceptions.NoSuchWindowException: Message: no such window: target window already closed\n",
      "from unknown error: web view not found\n",
      "  (Session info: chrome=130.0.6723.117)\n",
      "Stacktrace:\n",
      "\tGetHandleVerifier [0x00007FF7B64138A5+3004357]\n",
      "\t(No symbol) [0x00007FF7B60A9970]\n",
      "\t(No symbol) [0x00007FF7B5F5582A]\n",
      "\t(No symbol) [0x00007FF7B5F2FA75]\n",
      "\t(No symbol) [0x00007FF7B5FD2C77]\n",
      "\t(No symbol) [0x00007FF7B5FEB351]\n",
      "\t(No symbol) [0x00007FF7B5FCB983]\n",
      "\t(No symbol) [0x00007FF7B5F97628]\n",
      "\t(No symbol) [0x00007FF7B5F98791]\n",
      "\tGetHandleVerifier [0x00007FF7B643A00D+3161901]\n",
      "\tGetHandleVerifier [0x00007FF7B648E060+3506048]\n",
      "\tGetHandleVerifier [0x00007FF7B648400D+3465005]\n",
      "\tGetHandleVerifier [0x00007FF7B6200EEB+830987]\n",
      "\t(No symbol) [0x00007FF7B60B467F]\n",
      "\t(No symbol) [0x00007FF7B60B09D4]\n",
      "\t(No symbol) [0x00007FF7B60B0B6D]\n",
      "\t(No symbol) [0x00007FF7B60A0149]\n",
      "\tBaseThreadInitThunk [0x00007FFFC239257D+29]\n",
      "\tRtlUserThreadStart [0x00007FFFC418AF08+40]\n",
      "\n",
      "\n",
      "2024-11-15 20:09:38,478 INFO Finished executing jobs locally\n"
     ]
    },
    {
     "name": "stderr",
     "output_type": "stream",
     "text": [
      "'C:\\Users\\dlwns\\autorun.bat'��(��) ���� �Ǵ� �ܺ� ����, ������ �� �ִ� ���α׷�, �Ǵ�\n",
      "��ġ ������ �ƴմϴ�.\n",
      "c:\\Users\\dlwns\\anaconda3\\Lib\\site-packages\\paramiko\\transport.py:219: CryptographyDeprecationWarning: Blowfish has been deprecated and will be removed in a future release\n",
      "  \"class\": algorithms.Blowfish,\n"
     ]
    }
   ],
   "source": [
    "! python run.py --data_path \"C:\\Users\\dlwns\\capstone\\test\\data\" --category \"가전\" --choice_type \"계절가전\" --product_type \"에어컨\" --product_threshold 5 --n_pages 3"
   ]
  },
  {
   "cell_type": "code",
   "execution_count": null,
   "metadata": {},
   "outputs": [],
   "source": []
  }
 ],
 "metadata": {
  "kernelspec": {
   "display_name": "base",
   "language": "python",
   "name": "python3"
  },
  "language_info": {
   "codemirror_mode": {
    "name": "ipython",
    "version": 3
   },
   "file_extension": ".py",
   "mimetype": "text/x-python",
   "name": "python",
   "nbconvert_exporter": "python",
   "pygments_lexer": "ipython3",
   "version": "3.12.4"
  }
 },
 "nbformat": 4,
 "nbformat_minor": 2
}
